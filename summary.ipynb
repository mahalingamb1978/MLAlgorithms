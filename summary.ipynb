{
  "nbformat": 4,
  "nbformat_minor": 0,
  "metadata": {
    "colab": {
      "provenance": [],
      "authorship_tag": "ABX9TyO89MSHomXGEQoiFzwwkinZ",
      "include_colab_link": true
    },
    "kernelspec": {
      "name": "python3",
      "display_name": "Python 3"
    },
    "language_info": {
      "name": "python"
    }
  },
  "cells": [
    {
      "cell_type": "markdown",
      "metadata": {
        "id": "view-in-github",
        "colab_type": "text"
      },
      "source": [
        "<a href=\"https://colab.research.google.com/github/mahalingamb1978/MLAlgorithms/blob/main/summary.ipynb\" target=\"_parent\"><img src=\"https://colab.research.google.com/assets/colab-badge.svg\" alt=\"Open In Colab\"/></a>"
      ]
    },
    {
      "cell_type": "code",
      "execution_count": 7,
      "metadata": {
        "id": "rZsHFTQPHlj2"
      },
      "outputs": [],
      "source": [
        "!pip install --quiet google-cloud-aiplatform --upgrade --user"
      ]
    },
    {
      "cell_type": "code",
      "source": [
        "from google.colab import auth as google_auth\n",
        "google_auth.authenticate_user()"
      ],
      "metadata": {
        "id": "HIqIRhtUHx2u"
      },
      "execution_count": 1,
      "outputs": []
    },
    {
      "cell_type": "code",
      "source": [
        "PROJECT_ID = \"genai-demo-398012\" # @param {type:\"string\"}\n",
        "LOCATION = \"us-central1\"  # @param {type:\"string\"}"
      ],
      "metadata": {
        "id": "n1ub28hzH-MY"
      },
      "execution_count": 2,
      "outputs": []
    },
    {
      "cell_type": "code",
      "source": [
        "from google.cloud import aiplatform\n"
      ],
      "metadata": {
        "id": "aBCAZpMyIhXp"
      },
      "execution_count": 3,
      "outputs": []
    },
    {
      "cell_type": "code",
      "source": [
        "aiplatform.init(project=PROJECT_ID, location=LOCATION)"
      ],
      "metadata": {
        "id": "Rxp_KMNeIPk2"
      },
      "execution_count": 4,
      "outputs": []
    },
    {
      "cell_type": "code",
      "source": [
        "from vertexai.preview.language_models import TextGenerationModel, TextEmbeddingModel\n",
        "model = TextGenerationModel.from_pretrained(\"text-bison@001\")\n",
        "\n",
        "\n",
        "\n",
        "response1 = model.predict(\n",
        "      '''\n",
        "         Explain the theory of relativity in simple terms.\n",
        "\n",
        "      ''',\n",
        "    temperature=0.2,\n",
        "    max_output_tokens=256,\n",
        "    top_k=40,\n",
        "    top_p=.95)\n",
        "\n",
        "print(response1)"
      ],
      "metadata": {
        "colab": {
          "base_uri": "https://localhost:8080/"
        },
        "id": "aTIbmPiOSuBf",
        "outputId": "e4645120-010c-422a-e173-c18097e5e7c0"
      },
      "execution_count": 7,
      "outputs": [
        {
          "output_type": "stream",
          "name": "stdout",
          "text": [
            "The theory of relativity is a theory of gravity that was developed by Albert Einstein in the early 20th century. It is based on the idea that space and time are not absolute, but are relative to the observer. This means that the laws of physics are the same for all observers, regardless of their motion.\n",
            "\n",
            "       The theory of relativity has two main parts: special relativity and general relativity. Special relativity deals with the relationship between space and time, and how it is affected by the motion of objects. General relativity deals with the relationship between gravity and the curvature of spacetime.\n",
            "\n",
            "       Special relativity has a number of implications, including:\n",
            "\n",
            "        * The speed of light is the same for all observers, regardless of their motion.\n",
            "        * Time dilation occurs, which means that time runs slower for objects that are moving relative to an observer.\n",
            "        * Length contraction occurs, which means that objects that are moving relative to an observer appear to be shorter than they actually are.\n",
            "\n",
            "       General relativity has a number of implications, including:\n",
            "\n",
            "        * Gravity is not a force, but is instead a curvature of spacetime.\n",
            "        * Black holes are regions of spacetime where gravity is so strong that nothing, not even light, can escape.\n"
          ]
        }
      ]
    }
  ]
}